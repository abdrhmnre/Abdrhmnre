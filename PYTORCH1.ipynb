{
  "nbformat": 4,
  "nbformat_minor": 0,
  "metadata": {
    "colab": {
      "provenance": [],
      "gpuType": "T4",
      "authorship_tag": "ABX9TyPZDQ+5UhkzOlbbUakfdys1",
      "include_colab_link": true
    },
    "kernelspec": {
      "name": "python3",
      "display_name": "Python 3"
    },
    "language_info": {
      "name": "python"
    }
  },
  "cells": [
    {
      "cell_type": "markdown",
      "metadata": {
        "id": "view-in-github",
        "colab_type": "text"
      },
      "source": [
        "<a href=\"https://colab.research.google.com/github/abdrhmnre/Abdrhmnre/blob/main/PYTORCH1.ipynb\" target=\"_parent\"><img src=\"https://colab.research.google.com/assets/colab-badge.svg\" alt=\"Open In Colab\"/></a>"
      ]
    },
    {
      "cell_type": "code",
      "execution_count": null,
      "metadata": {
        "colab": {
          "base_uri": "https://localhost:8080/"
        },
        "id": "GkLz95BMmHv4",
        "outputId": "e26cf564-a000-4418-a806-23dbcbbc35f6"
      },
      "outputs": [
        {
          "output_type": "stream",
          "name": "stdout",
          "text": [
            "2.5.1+cu124\n"
          ]
        }
      ],
      "source": [
        "import torch\n",
        "print(torch.__version__)\n",
        "import pandas as pd\n",
        "import numpy as np\n",
        "import matplotlib.pyplot as plt\n",
        "import seaborn as sns\n"
      ]
    },
    {
      "cell_type": "code",
      "source": [
        "#scaler\n",
        "#tensor\n",
        "scalar=torch.tensor(7)\n",
        "scalar"
      ],
      "metadata": {
        "colab": {
          "base_uri": "https://localhost:8080/"
        },
        "id": "Z5b9bT9ipqJ0",
        "outputId": "8bb884dc-e7b7-4245-cac7-703a7881fca4"
      },
      "execution_count": null,
      "outputs": [
        {
          "output_type": "execute_result",
          "data": {
            "text/plain": [
              "tensor(7)"
            ]
          },
          "metadata": {},
          "execution_count": 2
        }
      ]
    },
    {
      "cell_type": "code",
      "source": [
        "scalar.ndim"
      ],
      "metadata": {
        "colab": {
          "base_uri": "https://localhost:8080/"
        },
        "id": "nAzC6PjGrsld",
        "outputId": "4e57a5d4-7932-4d8e-e6fa-d4ebecbd28c6"
      },
      "execution_count": null,
      "outputs": [
        {
          "output_type": "execute_result",
          "data": {
            "text/plain": [
              "0"
            ]
          },
          "metadata": {},
          "execution_count": 3
        }
      ]
    },
    {
      "cell_type": "code",
      "source": [
        "scalar.item()"
      ],
      "metadata": {
        "colab": {
          "base_uri": "https://localhost:8080/"
        },
        "id": "Mk45VtOasNZt",
        "outputId": "1edbeadc-5ff2-49d5-dd0f-130e2b2835bc"
      },
      "execution_count": null,
      "outputs": [
        {
          "output_type": "execute_result",
          "data": {
            "text/plain": [
              "7"
            ]
          },
          "metadata": {},
          "execution_count": 4
        }
      ]
    },
    {
      "cell_type": "code",
      "source": [
        "vector=torch.tensor([7,7])\n",
        "vector\n",
        "matrix=torch.tensor([[7,8],[9,10]])\n",
        "matrix\n",
        "TENSOR=torch.tensor([[[1,2,3],[3,6,9],[2,4,5]]])\n",
        "TENSOR.ndim"
      ],
      "metadata": {
        "colab": {
          "base_uri": "https://localhost:8080/"
        },
        "id": "dvs2O_9bsUHK",
        "outputId": "f0f567cd-6ec3-48ec-e571-7799cda7a43d"
      },
      "execution_count": null,
      "outputs": [
        {
          "output_type": "execute_result",
          "data": {
            "text/plain": [
              "3"
            ]
          },
          "metadata": {},
          "execution_count": 3
        }
      ]
    },
    {
      "cell_type": "code",
      "source": [
        "TENSOR=torch.tensor([[[1,2,3,]\n",
        "                      ,[3,6,9,]\n",
        "                      ,[2,4,5,],\n",
        "                       [2,4,5,]]])\n",
        "TENSOR.shape\n",
        "TENSOR.ndim\n"
      ],
      "metadata": {
        "colab": {
          "base_uri": "https://localhost:8080/"
        },
        "id": "UULvBq_AyMTH",
        "outputId": "d0ea386b-29f9-4eb5-957a-61756e6dc040"
      },
      "execution_count": null,
      "outputs": [
        {
          "output_type": "execute_result",
          "data": {
            "text/plain": [
              "3"
            ]
          },
          "metadata": {},
          "execution_count": 4
        }
      ]
    },
    {
      "cell_type": "code",
      "source": [
        "TENSOR"
      ],
      "metadata": {
        "colab": {
          "base_uri": "https://localhost:8080/"
        },
        "id": "OkimR9ZS3mQ5",
        "outputId": "df572553-3905-41b5-f26e-e502b752ae3d"
      },
      "execution_count": null,
      "outputs": [
        {
          "output_type": "execute_result",
          "data": {
            "text/plain": [
              "tensor([[[1, 2, 3],\n",
              "         [3, 6, 9],\n",
              "         [2, 4, 5],\n",
              "         [2, 4, 5]]])"
            ]
          },
          "metadata": {},
          "execution_count": 5
        }
      ]
    },
    {
      "cell_type": "code",
      "source": [
        "random_tensor=torch.rand(1,4,5)\n",
        "random_tensor"
      ],
      "metadata": {
        "colab": {
          "base_uri": "https://localhost:8080/"
        },
        "id": "Zwvmk_ba1zqD",
        "outputId": "98fb66de-e63a-41dd-f01b-b45a3b67efe9"
      },
      "execution_count": null,
      "outputs": [
        {
          "output_type": "execute_result",
          "data": {
            "text/plain": [
              "tensor([[[0.2082, 0.4989, 0.8302, 0.9117, 0.2007],\n",
              "         [0.1943, 0.2437, 0.6377, 0.3021, 0.3896],\n",
              "         [0.3157, 0.2136, 0.4869, 0.7254, 0.7838],\n",
              "         [0.1537, 0.0673, 0.7206, 0.0491, 0.5629]]])"
            ]
          },
          "metadata": {},
          "execution_count": 6
        }
      ]
    },
    {
      "cell_type": "code",
      "source": [
        "#creating range using torch.range(star,end,step)\n",
        "apple=torch.range(1,211,3)\n",
        "apple\n"
      ],
      "metadata": {
        "colab": {
          "base_uri": "https://localhost:8080/"
        },
        "id": "gl185iBMz9jp",
        "outputId": "b885229a-de9c-4fcf-e5eb-ae5252e08308"
      },
      "execution_count": null,
      "outputs": [
        {
          "output_type": "stream",
          "name": "stderr",
          "text": [
            "<ipython-input-7-69b4c77bfc1d>:2: UserWarning: torch.range is deprecated and will be removed in a future release because its behavior is inconsistent with Python's range builtin. Instead, use torch.arange, which produces values in [start, end).\n",
            "  apple=torch.range(1,211,3)\n"
          ]
        },
        {
          "output_type": "execute_result",
          "data": {
            "text/plain": [
              "tensor([  1.,   4.,   7.,  10.,  13.,  16.,  19.,  22.,  25.,  28.,  31.,  34.,\n",
              "         37.,  40.,  43.,  46.,  49.,  52.,  55.,  58.,  61.,  64.,  67.,  70.,\n",
              "         73.,  76.,  79.,  82.,  85.,  88.,  91.,  94.,  97., 100., 103., 106.,\n",
              "        109., 112., 115., 118., 121., 124., 127., 130., 133., 136., 139., 142.,\n",
              "        145., 148., 151., 154., 157., 160., 163., 166., 169., 172., 175., 178.,\n",
              "        181., 184., 187., 190., 193., 196., 199., 202., 205., 208., 211.])"
            ]
          },
          "metadata": {},
          "execution_count": 7
        }
      ]
    },
    {
      "cell_type": "code",
      "source": [
        "#creating tensors like to create shape like something but with zeros\n",
        "zero_like=torch.zeros_like(input=apple)\n",
        "zero_like"
      ],
      "metadata": {
        "colab": {
          "base_uri": "https://localhost:8080/"
        },
        "id": "0aZADAUg1fQN",
        "outputId": "2374a461-22d5-4845-e024-4e31568ce838"
      },
      "execution_count": null,
      "outputs": [
        {
          "output_type": "execute_result",
          "data": {
            "text/plain": [
              "tensor([0., 0., 0., 0., 0., 0., 0., 0., 0., 0., 0., 0., 0., 0., 0., 0., 0., 0., 0., 0., 0., 0., 0., 0.,\n",
              "        0., 0., 0., 0., 0., 0., 0., 0., 0., 0., 0., 0., 0., 0., 0., 0., 0., 0., 0., 0., 0., 0., 0., 0.,\n",
              "        0., 0., 0., 0., 0., 0., 0., 0., 0., 0., 0., 0., 0., 0., 0., 0., 0., 0., 0., 0., 0., 0., 0.])"
            ]
          },
          "metadata": {},
          "execution_count": 8
        }
      ]
    },
    {
      "cell_type": "code",
      "source": [
        "#tensor datatype\n",
        "#tensor dtype is one of three errors you will run into with pytorch & deep learnning\n",
        "# 1- tensor is not in the right dtype 2- tensor is not in the right shape\n",
        "#3- tensor is not in the right device\n",
        "float_32_tensor=torch.tensor([3.0,6.0,9.0],dtype=None,device=None,requires_grad=False)\n",
        "\n",
        "float32=torch.tensor([6.0,6.0,9.0],dtype=torch.int32,device=None,requires_grad=False)\n",
        "\n",
        "#gradiant to track gradiants with tensors oprations\n",
        "float32*float_32_tensor"
      ],
      "metadata": {
        "colab": {
          "base_uri": "https://localhost:8080/"
        },
        "id": "SWquLe4y3QHx",
        "outputId": "ffc61a2d-6003-4979-c6d1-66bcaa781b73"
      },
      "execution_count": null,
      "outputs": [
        {
          "output_type": "execute_result",
          "data": {
            "text/plain": [
              "tensor([18., 36., 81.])"
            ]
          },
          "metadata": {},
          "execution_count": 9
        }
      ]
    },
    {
      "cell_type": "code",
      "source": [
        "#create a rando tensor\n",
        "tensor12=torch.rand(3,4)\n",
        "tensor12"
      ],
      "metadata": {
        "colab": {
          "base_uri": "https://localhost:8080/"
        },
        "id": "cDUTkWM0AL18",
        "outputId": "0278b25e-6c7e-40d4-bab9-be725b90a2e4"
      },
      "execution_count": null,
      "outputs": [
        {
          "output_type": "execute_result",
          "data": {
            "text/plain": [
              "tensor([[0.8705, 0.9264, 0.3774, 0.7113],\n",
              "        [0.8576, 0.6219, 0.4738, 0.4918],\n",
              "        [0.8579, 0.7147, 0.0405, 0.5627]])"
            ]
          },
          "metadata": {},
          "execution_count": 10
        }
      ]
    },
    {
      "cell_type": "code",
      "source": [
        "tensor=torch.tensor([1,6,12])\n",
        "tensor + 12\n",
        "tensor"
      ],
      "metadata": {
        "colab": {
          "base_uri": "https://localhost:8080/"
        },
        "id": "75BFcARDF501",
        "outputId": "cd9cf3a5-49c3-43c1-87f8-198d04ac2361"
      },
      "execution_count": null,
      "outputs": [
        {
          "output_type": "execute_result",
          "data": {
            "text/plain": [
              "tensor([ 1,  6, 12])"
            ]
          },
          "metadata": {},
          "execution_count": 11
        }
      ]
    },
    {
      "cell_type": "code",
      "source": [
        "#torch . mm = torch.matmul\n",
        "\n",
        "torch.matmul(tensor,tensor)"
      ],
      "metadata": {
        "colab": {
          "base_uri": "https://localhost:8080/"
        },
        "id": "KAyYcbdB-zry",
        "outputId": "a074ba39-e2b6-4d3f-d32a-23995264fb50"
      },
      "execution_count": null,
      "outputs": [
        {
          "output_type": "execute_result",
          "data": {
            "text/plain": [
              "tensor(181)"
            ]
          },
          "metadata": {},
          "execution_count": 12
        }
      ]
    },
    {
      "cell_type": "code",
      "source": [
        "new=torch.rand(10,5)\n",
        "new.shape"
      ],
      "metadata": {
        "colab": {
          "base_uri": "https://localhost:8080/"
        },
        "id": "VPnVpuGt_Pwa",
        "outputId": "dec5dbe0-cdd9-48e4-9d31-dda083ee98aa"
      },
      "execution_count": null,
      "outputs": [
        {
          "output_type": "execute_result",
          "data": {
            "text/plain": [
              "torch.Size([10, 5])"
            ]
          },
          "metadata": {},
          "execution_count": 20
        }
      ]
    },
    {
      "cell_type": "code",
      "source": [
        "torch.matmul(new,torch.transpose(new, 0, 1))"
      ],
      "metadata": {
        "colab": {
          "base_uri": "https://localhost:8080/"
        },
        "id": "AXr80nLBAn_N",
        "outputId": "fdfe3efb-6c02-4f1b-fe60-7b9fc5300ea7"
      },
      "execution_count": null,
      "outputs": [
        {
          "output_type": "execute_result",
          "data": {
            "text/plain": [
              "tensor([[1.2821, 0.9890, 0.9108, 1.2246, 1.0023, 1.5215, 1.2366, 1.0733, 1.0798,\n",
              "         1.1943],\n",
              "        [0.9890, 1.3804, 0.6291, 1.0128, 1.2721, 1.4654, 1.6937, 1.4682, 0.7158,\n",
              "         1.0390],\n",
              "        [0.9108, 0.6291, 1.0893, 1.2981, 0.8199, 0.8790, 0.6354, 0.7433, 1.2912,\n",
              "         1.0829],\n",
              "        [1.2246, 1.0128, 1.2981, 1.7390, 1.4238, 1.5042, 1.0778, 1.1400, 1.7077,\n",
              "         1.4738],\n",
              "        [1.0023, 1.2721, 0.8199, 1.4238, 1.7867, 1.6999, 1.3697, 1.3163, 1.2754,\n",
              "         1.1055],\n",
              "        [1.5215, 1.4654, 0.8790, 1.5042, 1.6999, 2.3104, 1.8772, 1.5546, 1.3084,\n",
              "         1.5748],\n",
              "        [1.2366, 1.6937, 0.6354, 1.0778, 1.3697, 1.8772, 2.2525, 1.8365, 0.7047,\n",
              "         1.4143],\n",
              "        [1.0733, 1.4682, 0.7433, 1.1400, 1.3163, 1.5546, 1.8365, 1.5952, 0.8433,\n",
              "         1.2518],\n",
              "        [1.0798, 0.7158, 1.2912, 1.7077, 1.2754, 1.3084, 0.7047, 0.8433, 1.7909,\n",
              "         1.4326],\n",
              "        [1.1943, 1.0390, 1.0829, 1.4738, 1.1055, 1.5748, 1.4143, 1.2518, 1.4326,\n",
              "         1.7794]])"
            ]
          },
          "metadata": {},
          "execution_count": 21
        }
      ]
    },
    {
      "cell_type": "code",
      "source": [
        "#shapes for matix muliplication\n",
        "tensor_A=torch.tensor([[1,2],[3,4],[5,6]])\n",
        "tensor_B=torch.tensor([[7,10],[8,11],[9,12]])\n",
        "tensor_B.T"
      ],
      "metadata": {
        "colab": {
          "base_uri": "https://localhost:8080/"
        },
        "id": "DZ0DN7gpDoxn",
        "outputId": "ca73c16b-de7e-429f-91a5-9d6772757510"
      },
      "execution_count": null,
      "outputs": [
        {
          "output_type": "execute_result",
          "data": {
            "text/plain": [
              "tensor([[ 7,  8,  9],\n",
              "        [10, 11, 12]])"
            ]
          },
          "metadata": {},
          "execution_count": 22
        }
      ]
    },
    {
      "cell_type": "code",
      "source": [
        "torch.transpose(new, 0, 1)"
      ],
      "metadata": {
        "colab": {
          "base_uri": "https://localhost:8080/"
        },
        "id": "iaW_d4vRA9Ga",
        "outputId": "843081e1-8b46-478e-e9ec-62a603866aee"
      },
      "execution_count": null,
      "outputs": [
        {
          "output_type": "execute_result",
          "data": {
            "text/plain": [
              "tensor([[0.1605, 0.2384, 0.6128],\n",
              "        [0.7233, 0.7395, 0.3976]])"
            ]
          },
          "metadata": {},
          "execution_count": 17
        }
      ]
    },
    {
      "cell_type": "code",
      "source": [
        "torch.mm(tensor_A,tensor_B.T)"
      ],
      "metadata": {
        "colab": {
          "base_uri": "https://localhost:8080/"
        },
        "id": "V7Fb2-pUEh-b",
        "outputId": "8b720809-625e-4309-9896-05bc655dbe37"
      },
      "execution_count": null,
      "outputs": [
        {
          "output_type": "execute_result",
          "data": {
            "text/plain": [
              "tensor([[ 27,  30,  33],\n",
              "        [ 61,  68,  75],\n",
              "        [ 95, 106, 117]])"
            ]
          },
          "metadata": {},
          "execution_count": 24
        }
      ]
    },
    {
      "cell_type": "code",
      "source": [
        "x= torch.arange(5,200,10)\n",
        "x"
      ],
      "metadata": {
        "colab": {
          "base_uri": "https://localhost:8080/"
        },
        "id": "h036FWfFLbpN",
        "outputId": "dbecb5fe-4ad7-42cb-d305-0ea055f2e838"
      },
      "execution_count": null,
      "outputs": [
        {
          "output_type": "execute_result",
          "data": {
            "text/plain": [
              "tensor([  5,  15,  25,  35,  45,  55,  65,  75,  85,  95, 105, 115, 125, 135,\n",
              "        145, 155, 165, 175, 185, 195])"
            ]
          },
          "metadata": {},
          "execution_count": 27
        }
      ]
    },
    {
      "cell_type": "code",
      "source": [
        "torch.min(x)"
      ],
      "metadata": {
        "colab": {
          "base_uri": "https://localhost:8080/"
        },
        "id": "xAxyazOULnyc",
        "outputId": "ce6851ed-a534-4218-a746-812001e60eef"
      },
      "execution_count": null,
      "outputs": [
        {
          "output_type": "execute_result",
          "data": {
            "text/plain": [
              "tensor(5)"
            ]
          },
          "metadata": {},
          "execution_count": 28
        }
      ]
    },
    {
      "cell_type": "code",
      "source": [
        "import torch\n",
        "import numpy as np\n",
        "array=np.arange(1.0,8.0)\n",
        "tensor=torch.from_numpy(array).type(torch.float32)\n",
        "array,tensor\n",
        "array, tensor\n"
      ],
      "metadata": {
        "colab": {
          "base_uri": "https://localhost:8080/"
        },
        "id": "MWuMzeRbHZps",
        "outputId": "9bc876c4-da7c-490f-8dc3-18d130346ad5"
      },
      "execution_count": 5,
      "outputs": [
        {
          "output_type": "execute_result",
          "data": {
            "text/plain": [
              "(array([1., 2., 3., 4., 5., 6., 7.]), tensor([1., 2., 3., 4., 5., 6., 7.]))"
            ]
          },
          "metadata": {},
          "execution_count": 5
        }
      ]
    }
  ]
}